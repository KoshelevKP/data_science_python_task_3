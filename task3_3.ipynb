{
 "cells": [
  {
   "cell_type": "code",
   "execution_count": 1,
   "metadata": {},
   "outputs": [],
   "source": [
    "import requests"
   ]
  },
  {
   "cell_type": "code",
   "execution_count": 2,
   "metadata": {},
   "outputs": [],
   "source": [
    "def maximum_exchange():\n",
    "\n",
    "    r = requests.get('https://www.cbr-xml-daily.ru/daily_json.js')\n",
    "\n",
    "    valute = r.json()['Valute']\n",
    "\n",
    "    max_value = 0\n",
    "    max_name = ''\n",
    "\n",
    "    for element in valute:\n",
    "        if valute[element]['Value'] > max_value:\n",
    "            max_value = valute[element]['Value']\n",
    "            max_name = element\n",
    "        \n",
    "    return max_name"
   ]
  },
  {
   "cell_type": "code",
   "execution_count": 3,
   "metadata": {},
   "outputs": [
    {
     "name": "stdout",
     "output_type": "stream",
     "text": [
      "DKK\n"
     ]
    }
   ],
   "source": [
    "print(maximum_exchange())"
   ]
  },
  {
   "cell_type": "code",
   "execution_count": null,
   "metadata": {},
   "outputs": [],
   "source": []
  }
 ],
 "metadata": {
  "kernelspec": {
   "display_name": "Python 3",
   "language": "python",
   "name": "python3"
  },
  "language_info": {
   "codemirror_mode": {
    "name": "ipython",
    "version": 3
   },
   "file_extension": ".py",
   "mimetype": "text/x-python",
   "name": "python",
   "nbconvert_exporter": "python",
   "pygments_lexer": "ipython3",
   "version": "3.6.5"
  }
 },
 "nbformat": 4,
 "nbformat_minor": 2
}
