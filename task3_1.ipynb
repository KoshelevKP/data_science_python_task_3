{
 "cells": [
  {
   "cell_type": "code",
   "execution_count": 1,
   "metadata": {},
   "outputs": [],
   "source": [
    "def sum_of_diagonal(data):\n",
    "    \"\"\"\n",
    "    Функция возвращает сумму элементов на диоганали квадратной матрицы.\n",
    "    если входные аданные не являются квадратной матрицой функция вернет 'Error\n",
    "    \"\"\"\n",
    "    \n",
    "    sum_of_elements = 0\n",
    "    \n",
    "    if check_data(data):\n",
    "        for i in range(len(data)):\n",
    "            sum_of_elements += data[i][i]\n",
    "    else:\n",
    "        return 'Error'\n",
    "        \n",
    "        \n",
    "    return sum_of_elements"
   ]
  },
  {
   "cell_type": "code",
   "execution_count": 3,
   "metadata": {},
   "outputs": [],
   "source": [
    "def check_data(data):\n",
    "    \"\"\"\n",
    "    Проверка является ли функция квадратной матрицей\n",
    "    \"\"\"\n",
    "    \n",
    "    for line in data:\n",
    "        if len(line) != len(data):\n",
    "            return False\n",
    "        \n",
    "    return True"
   ]
  },
  {
   "cell_type": "code",
   "execution_count": 4,
   "metadata": {},
   "outputs": [
    {
     "name": "stdout",
     "output_type": "stream",
     "text": [
      "103\n"
     ]
    }
   ],
   "source": [
    "data = [\n",
    "[13, 25, 23, 34],\n",
    "[45, 32, 44, 47],\n",
    "[12, 33, 23, 95],\n",
    "[13, 53, 34, 35],\n",
    "]\n",
    "\n",
    "print(sum_of_diagonal(data))"
   ]
  },
  {
   "cell_type": "code",
   "execution_count": null,
   "metadata": {},
   "outputs": [],
   "source": []
  }
 ],
 "metadata": {
  "kernelspec": {
   "display_name": "Python 3",
   "language": "python",
   "name": "python3"
  },
  "language_info": {
   "codemirror_mode": {
    "name": "ipython",
    "version": 3
   },
   "file_extension": ".py",
   "mimetype": "text/x-python",
   "name": "python",
   "nbconvert_exporter": "python",
   "pygments_lexer": "ipython3",
   "version": "3.6.5"
  }
 },
 "nbformat": 4,
 "nbformat_minor": 2
}
