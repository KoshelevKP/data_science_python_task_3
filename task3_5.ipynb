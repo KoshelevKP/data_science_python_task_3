{
 "cells": [
  {
   "cell_type": "code",
   "execution_count": 1,
   "metadata": {},
   "outputs": [],
   "source": [
    "def Fibonacci_numbers(number, list_of_numbers=[]):\n",
    "    \"\"\"\n",
    "    Функция возвращает первые n чисел фибоначе\n",
    "    \"\"\"\n",
    "            \n",
    "    if len(list_of_numbers) > 1:\n",
    "        list_of_numbers.append(list_of_numbers[-1] + list_of_numbers[-2])\n",
    "    if len(list_of_numbers) == 1:\n",
    "        list_of_numbers.append(1)\n",
    "    if len(list_of_numbers) < 1:\n",
    "        list_of_numbers = [1]\n",
    "            \n",
    "    if len(list_of_numbers) < number:\n",
    "        Fibonacci_numbers(number, list_of_numbers)\n",
    "        \n",
    "    return (list_of_numbers)"
   ]
  },
  {
   "cell_type": "code",
   "execution_count": 2,
   "metadata": {},
   "outputs": [
    {
     "name": "stdout",
     "output_type": "stream",
     "text": [
      "[1, 1, 2, 3, 5, 8]\n"
     ]
    }
   ],
   "source": [
    "# задание 5\n",
    "\n",
    "print(Fibonacci_numbers(6))"
   ]
  },
  {
   "cell_type": "code",
   "execution_count": null,
   "metadata": {},
   "outputs": [],
   "source": []
  }
 ],
 "metadata": {
  "kernelspec": {
   "display_name": "Python 3",
   "language": "python",
   "name": "python3"
  },
  "language_info": {
   "codemirror_mode": {
    "name": "ipython",
    "version": 3
   },
   "file_extension": ".py",
   "mimetype": "text/x-python",
   "name": "python",
   "nbconvert_exporter": "python",
   "pygments_lexer": "ipython3",
   "version": "3.6.5"
  }
 },
 "nbformat": 4,
 "nbformat_minor": 2
}
