{
 "cells": [
  {
   "cell_type": "code",
   "execution_count": 1,
   "metadata": {},
   "outputs": [],
   "source": [
    "def sum_of_squares(data):\n",
    "    \"\"\"\n",
    "    Функция возвращает сумму квадратов всех элементов которые могут быть числами\n",
    "    \"\"\"\n",
    "    \n",
    "    sum_of_squares = 0\n",
    "\n",
    "    for element in data:\n",
    "        \n",
    "        if type(element) == int:\n",
    "            sum_of_squares += element**2\n",
    "            \n",
    "        if type(element) == float:\n",
    "            sum_of_squares += element**2\n",
    "            \n",
    "        if type(element) == str:\n",
    "            if str.isnumeric(element):\n",
    "                sum_of_squares += float(element)**2\n",
    "                \n",
    "    return sum_of_squares"
   ]
  },
  {
   "cell_type": "code",
   "execution_count": 2,
   "metadata": {},
   "outputs": [
    {
     "name": "stdout",
     "output_type": "stream",
     "text": [
      "430.0\n"
     ]
    }
   ],
   "source": [
    "data = [1, '5', 'abc', 20, '2']\n",
    "\n",
    "print(sum_of_squares(data))"
   ]
  },
  {
   "cell_type": "code",
   "execution_count": null,
   "metadata": {},
   "outputs": [],
   "source": []
  }
 ],
 "metadata": {
  "kernelspec": {
   "display_name": "Python 3",
   "language": "python",
   "name": "python3"
  },
  "language_info": {
   "codemirror_mode": {
    "name": "ipython",
    "version": 3
   },
   "file_extension": ".py",
   "mimetype": "text/x-python",
   "name": "python",
   "nbconvert_exporter": "python",
   "pygments_lexer": "ipython3",
   "version": "3.6.5"
  }
 },
 "nbformat": 4,
 "nbformat_minor": 2
}
