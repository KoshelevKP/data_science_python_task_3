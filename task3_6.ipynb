{
 "cells": [
  {
   "cell_type": "code",
   "execution_count": 1,
   "metadata": {},
   "outputs": [],
   "source": [
    "def list_to_dict(data_list, data_dict = {}):\n",
    "    \n",
    "    if len(data_dict) == 0:\n",
    "        data_dict = {data_list[-2]: data_list[-1]}\n",
    "        data_list.pop(-1)\n",
    "        data_list.pop(-1)\n",
    "        \n",
    "    if len(data_list) != 0:\n",
    "        data_dict = {data_list[-1]: data_dict}\n",
    "        data_list.pop(-1)\n",
    "        if len(data_list) != 0:\n",
    "            list_to_dict(data_list, data_dict)\n",
    "        else:\n",
    "            return data_dict"
   ]
  },
  {
   "cell_type": "code",
   "execution_count": 3,
   "metadata": {},
   "outputs": [
    {
     "name": "stdout",
     "output_type": "stream",
     "text": [
      "None\n"
     ]
    }
   ],
   "source": [
    "data_list =  ['2018-01-01', 'yandex', 'cpc', 100]\n",
    "list_to_dict(data_list)"
   ]
  },
  {
   "cell_type": "code",
   "execution_count": null,
   "metadata": {},
   "outputs": [],
   "source": []
  }
 ],
 "metadata": {
  "kernelspec": {
   "display_name": "Python 3",
   "language": "python",
   "name": "python3"
  },
  "language_info": {
   "codemirror_mode": {
    "name": "ipython",
    "version": 3
   },
   "file_extension": ".py",
   "mimetype": "text/x-python",
   "name": "python",
   "nbconvert_exporter": "python",
   "pygments_lexer": "ipython3",
   "version": "3.6.5"
  }
 },
 "nbformat": 4,
 "nbformat_minor": 2
}
